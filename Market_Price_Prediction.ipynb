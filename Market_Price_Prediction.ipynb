{
  "nbformat": 4,
  "nbformat_minor": 0,
  "metadata": {
    "colab": {
      "provenance": [],
      "toc_visible": true,
      "mount_file_id": "1ese08jDOdWDfxhsTmnkXO2Nx_b_lyb23",
      "authorship_tag": "ABX9TyPTait1OUnVzeBMOtK5VgGT",
      "include_colab_link": true
    },
    "kernelspec": {
      "name": "python3",
      "display_name": "Python 3"
    },
    "language_info": {
      "name": "python"
    }
  },
  "cells": [
    {
      "cell_type": "markdown",
      "metadata": {
        "id": "view-in-github",
        "colab_type": "text"
      },
      "source": [
        "<a href=\"https://colab.research.google.com/github/Zesmat/Market-Price-Prediction/blob/main/Market_Price_Prediction.ipynb\" target=\"_parent\"><img src=\"https://colab.research.google.com/assets/colab-badge.svg\" alt=\"Open In Colab\"/></a>"
      ]
    },
    {
      "cell_type": "markdown",
      "source": [
        "This model aims to predict market price based on given data set using Long Short Term Memory Algorithm"
      ],
      "metadata": {
        "id": "4suLYRjRkRnn"
      }
    },
    {
      "cell_type": "markdown",
      "source": [
        "## **Data Preprocessing**"
      ],
      "metadata": {
        "id": "yVUWWX_wJgsf"
      }
    },
    {
      "cell_type": "markdown",
      "source": [
        "### **Load dataset**"
      ],
      "metadata": {
        "id": "OHw_eU6OxC1T"
      }
    },
    {
      "cell_type": "code",
      "execution_count": 37,
      "metadata": {
        "id": "CFQQDiBgwqoX",
        "colab": {
          "base_uri": "https://localhost:8080/",
          "height": 313
        },
        "outputId": "e8231525-68f8-43ac-f3c7-bcfdb74861bf"
      },
      "outputs": [
        {
          "output_type": "execute_result",
          "data": {
            "text/plain": [
              "       market    month  year  quantity  priceMin  priceMax  priceMod state  \\\n",
              "0  ABOHAR(PB)  January  2005      2350       404       493       446    PB   \n",
              "1  ABOHAR(PB)  January  2006       900       487       638       563    PB   \n",
              "2  ABOHAR(PB)  January  2010       790      1283      1592      1460    PB   \n",
              "3  ABOHAR(PB)  January  2011       245      3067      3750      3433    PB   \n",
              "4  ABOHAR(PB)  January  2012      1035       523       686       605    PB   \n",
              "\n",
              "     city          date  \n",
              "0  ABOHAR  January-2005  \n",
              "1  ABOHAR  January-2006  \n",
              "2  ABOHAR  January-2010  \n",
              "3  ABOHAR  January-2011  \n",
              "4  ABOHAR  January-2012  "
            ],
            "text/html": [
              "\n",
              "  <div id=\"df-8687f62c-a902-4457-9283-f8925b481602\" class=\"colab-df-container\">\n",
              "    <div>\n",
              "<style scoped>\n",
              "    .dataframe tbody tr th:only-of-type {\n",
              "        vertical-align: middle;\n",
              "    }\n",
              "\n",
              "    .dataframe tbody tr th {\n",
              "        vertical-align: top;\n",
              "    }\n",
              "\n",
              "    .dataframe thead th {\n",
              "        text-align: right;\n",
              "    }\n",
              "</style>\n",
              "<table border=\"1\" class=\"dataframe\">\n",
              "  <thead>\n",
              "    <tr style=\"text-align: right;\">\n",
              "      <th></th>\n",
              "      <th>market</th>\n",
              "      <th>month</th>\n",
              "      <th>year</th>\n",
              "      <th>quantity</th>\n",
              "      <th>priceMin</th>\n",
              "      <th>priceMax</th>\n",
              "      <th>priceMod</th>\n",
              "      <th>state</th>\n",
              "      <th>city</th>\n",
              "      <th>date</th>\n",
              "    </tr>\n",
              "  </thead>\n",
              "  <tbody>\n",
              "    <tr>\n",
              "      <th>0</th>\n",
              "      <td>ABOHAR(PB)</td>\n",
              "      <td>January</td>\n",
              "      <td>2005</td>\n",
              "      <td>2350</td>\n",
              "      <td>404</td>\n",
              "      <td>493</td>\n",
              "      <td>446</td>\n",
              "      <td>PB</td>\n",
              "      <td>ABOHAR</td>\n",
              "      <td>January-2005</td>\n",
              "    </tr>\n",
              "    <tr>\n",
              "      <th>1</th>\n",
              "      <td>ABOHAR(PB)</td>\n",
              "      <td>January</td>\n",
              "      <td>2006</td>\n",
              "      <td>900</td>\n",
              "      <td>487</td>\n",
              "      <td>638</td>\n",
              "      <td>563</td>\n",
              "      <td>PB</td>\n",
              "      <td>ABOHAR</td>\n",
              "      <td>January-2006</td>\n",
              "    </tr>\n",
              "    <tr>\n",
              "      <th>2</th>\n",
              "      <td>ABOHAR(PB)</td>\n",
              "      <td>January</td>\n",
              "      <td>2010</td>\n",
              "      <td>790</td>\n",
              "      <td>1283</td>\n",
              "      <td>1592</td>\n",
              "      <td>1460</td>\n",
              "      <td>PB</td>\n",
              "      <td>ABOHAR</td>\n",
              "      <td>January-2010</td>\n",
              "    </tr>\n",
              "    <tr>\n",
              "      <th>3</th>\n",
              "      <td>ABOHAR(PB)</td>\n",
              "      <td>January</td>\n",
              "      <td>2011</td>\n",
              "      <td>245</td>\n",
              "      <td>3067</td>\n",
              "      <td>3750</td>\n",
              "      <td>3433</td>\n",
              "      <td>PB</td>\n",
              "      <td>ABOHAR</td>\n",
              "      <td>January-2011</td>\n",
              "    </tr>\n",
              "    <tr>\n",
              "      <th>4</th>\n",
              "      <td>ABOHAR(PB)</td>\n",
              "      <td>January</td>\n",
              "      <td>2012</td>\n",
              "      <td>1035</td>\n",
              "      <td>523</td>\n",
              "      <td>686</td>\n",
              "      <td>605</td>\n",
              "      <td>PB</td>\n",
              "      <td>ABOHAR</td>\n",
              "      <td>January-2012</td>\n",
              "    </tr>\n",
              "  </tbody>\n",
              "</table>\n",
              "</div>\n",
              "    <div class=\"colab-df-buttons\">\n",
              "\n",
              "  <div class=\"colab-df-container\">\n",
              "    <button class=\"colab-df-convert\" onclick=\"convertToInteractive('df-8687f62c-a902-4457-9283-f8925b481602')\"\n",
              "            title=\"Convert this dataframe to an interactive table.\"\n",
              "            style=\"display:none;\">\n",
              "\n",
              "  <svg xmlns=\"http://www.w3.org/2000/svg\" height=\"24px\" viewBox=\"0 -960 960 960\">\n",
              "    <path d=\"M120-120v-720h720v720H120Zm60-500h600v-160H180v160Zm220 220h160v-160H400v160Zm0 220h160v-160H400v160ZM180-400h160v-160H180v160Zm440 0h160v-160H620v160ZM180-180h160v-160H180v160Zm440 0h160v-160H620v160Z\"/>\n",
              "  </svg>\n",
              "    </button>\n",
              "\n",
              "  <style>\n",
              "    .colab-df-container {\n",
              "      display:flex;\n",
              "      gap: 12px;\n",
              "    }\n",
              "\n",
              "    .colab-df-convert {\n",
              "      background-color: #E8F0FE;\n",
              "      border: none;\n",
              "      border-radius: 50%;\n",
              "      cursor: pointer;\n",
              "      display: none;\n",
              "      fill: #1967D2;\n",
              "      height: 32px;\n",
              "      padding: 0 0 0 0;\n",
              "      width: 32px;\n",
              "    }\n",
              "\n",
              "    .colab-df-convert:hover {\n",
              "      background-color: #E2EBFA;\n",
              "      box-shadow: 0px 1px 2px rgba(60, 64, 67, 0.3), 0px 1px 3px 1px rgba(60, 64, 67, 0.15);\n",
              "      fill: #174EA6;\n",
              "    }\n",
              "\n",
              "    .colab-df-buttons div {\n",
              "      margin-bottom: 4px;\n",
              "    }\n",
              "\n",
              "    [theme=dark] .colab-df-convert {\n",
              "      background-color: #3B4455;\n",
              "      fill: #D2E3FC;\n",
              "    }\n",
              "\n",
              "    [theme=dark] .colab-df-convert:hover {\n",
              "      background-color: #434B5C;\n",
              "      box-shadow: 0px 1px 3px 1px rgba(0, 0, 0, 0.15);\n",
              "      filter: drop-shadow(0px 1px 2px rgba(0, 0, 0, 0.3));\n",
              "      fill: #FFFFFF;\n",
              "    }\n",
              "  </style>\n",
              "\n",
              "    <script>\n",
              "      const buttonEl =\n",
              "        document.querySelector('#df-8687f62c-a902-4457-9283-f8925b481602 button.colab-df-convert');\n",
              "      buttonEl.style.display =\n",
              "        google.colab.kernel.accessAllowed ? 'block' : 'none';\n",
              "\n",
              "      async function convertToInteractive(key) {\n",
              "        const element = document.querySelector('#df-8687f62c-a902-4457-9283-f8925b481602');\n",
              "        const dataTable =\n",
              "          await google.colab.kernel.invokeFunction('convertToInteractive',\n",
              "                                                    [key], {});\n",
              "        if (!dataTable) return;\n",
              "\n",
              "        const docLinkHtml = 'Like what you see? Visit the ' +\n",
              "          '<a target=\"_blank\" href=https://colab.research.google.com/notebooks/data_table.ipynb>data table notebook</a>'\n",
              "          + ' to learn more about interactive tables.';\n",
              "        element.innerHTML = '';\n",
              "        dataTable['output_type'] = 'display_data';\n",
              "        await google.colab.output.renderOutput(dataTable, element);\n",
              "        const docLink = document.createElement('div');\n",
              "        docLink.innerHTML = docLinkHtml;\n",
              "        element.appendChild(docLink);\n",
              "      }\n",
              "    </script>\n",
              "  </div>\n",
              "\n",
              "\n",
              "<div id=\"df-167fc428-ca35-4fde-abcd-d7931c86d97e\">\n",
              "  <button class=\"colab-df-quickchart\" onclick=\"quickchart('df-167fc428-ca35-4fde-abcd-d7931c86d97e')\"\n",
              "            title=\"Suggest charts\"\n",
              "            style=\"display:none;\">\n",
              "\n",
              "<svg xmlns=\"http://www.w3.org/2000/svg\" height=\"24px\"viewBox=\"0 0 24 24\"\n",
              "     width=\"24px\">\n",
              "    <g>\n",
              "        <path d=\"M19 3H5c-1.1 0-2 .9-2 2v14c0 1.1.9 2 2 2h14c1.1 0 2-.9 2-2V5c0-1.1-.9-2-2-2zM9 17H7v-7h2v7zm4 0h-2V7h2v10zm4 0h-2v-4h2v4z\"/>\n",
              "    </g>\n",
              "</svg>\n",
              "  </button>\n",
              "\n",
              "<style>\n",
              "  .colab-df-quickchart {\n",
              "      --bg-color: #E8F0FE;\n",
              "      --fill-color: #1967D2;\n",
              "      --hover-bg-color: #E2EBFA;\n",
              "      --hover-fill-color: #174EA6;\n",
              "      --disabled-fill-color: #AAA;\n",
              "      --disabled-bg-color: #DDD;\n",
              "  }\n",
              "\n",
              "  [theme=dark] .colab-df-quickchart {\n",
              "      --bg-color: #3B4455;\n",
              "      --fill-color: #D2E3FC;\n",
              "      --hover-bg-color: #434B5C;\n",
              "      --hover-fill-color: #FFFFFF;\n",
              "      --disabled-bg-color: #3B4455;\n",
              "      --disabled-fill-color: #666;\n",
              "  }\n",
              "\n",
              "  .colab-df-quickchart {\n",
              "    background-color: var(--bg-color);\n",
              "    border: none;\n",
              "    border-radius: 50%;\n",
              "    cursor: pointer;\n",
              "    display: none;\n",
              "    fill: var(--fill-color);\n",
              "    height: 32px;\n",
              "    padding: 0;\n",
              "    width: 32px;\n",
              "  }\n",
              "\n",
              "  .colab-df-quickchart:hover {\n",
              "    background-color: var(--hover-bg-color);\n",
              "    box-shadow: 0 1px 2px rgba(60, 64, 67, 0.3), 0 1px 3px 1px rgba(60, 64, 67, 0.15);\n",
              "    fill: var(--button-hover-fill-color);\n",
              "  }\n",
              "\n",
              "  .colab-df-quickchart-complete:disabled,\n",
              "  .colab-df-quickchart-complete:disabled:hover {\n",
              "    background-color: var(--disabled-bg-color);\n",
              "    fill: var(--disabled-fill-color);\n",
              "    box-shadow: none;\n",
              "  }\n",
              "\n",
              "  .colab-df-spinner {\n",
              "    border: 2px solid var(--fill-color);\n",
              "    border-color: transparent;\n",
              "    border-bottom-color: var(--fill-color);\n",
              "    animation:\n",
              "      spin 1s steps(1) infinite;\n",
              "  }\n",
              "\n",
              "  @keyframes spin {\n",
              "    0% {\n",
              "      border-color: transparent;\n",
              "      border-bottom-color: var(--fill-color);\n",
              "      border-left-color: var(--fill-color);\n",
              "    }\n",
              "    20% {\n",
              "      border-color: transparent;\n",
              "      border-left-color: var(--fill-color);\n",
              "      border-top-color: var(--fill-color);\n",
              "    }\n",
              "    30% {\n",
              "      border-color: transparent;\n",
              "      border-left-color: var(--fill-color);\n",
              "      border-top-color: var(--fill-color);\n",
              "      border-right-color: var(--fill-color);\n",
              "    }\n",
              "    40% {\n",
              "      border-color: transparent;\n",
              "      border-right-color: var(--fill-color);\n",
              "      border-top-color: var(--fill-color);\n",
              "    }\n",
              "    60% {\n",
              "      border-color: transparent;\n",
              "      border-right-color: var(--fill-color);\n",
              "    }\n",
              "    80% {\n",
              "      border-color: transparent;\n",
              "      border-right-color: var(--fill-color);\n",
              "      border-bottom-color: var(--fill-color);\n",
              "    }\n",
              "    90% {\n",
              "      border-color: transparent;\n",
              "      border-bottom-color: var(--fill-color);\n",
              "    }\n",
              "  }\n",
              "</style>\n",
              "\n",
              "  <script>\n",
              "    async function quickchart(key) {\n",
              "      const quickchartButtonEl =\n",
              "        document.querySelector('#' + key + ' button');\n",
              "      quickchartButtonEl.disabled = true;  // To prevent multiple clicks.\n",
              "      quickchartButtonEl.classList.add('colab-df-spinner');\n",
              "      try {\n",
              "        const charts = await google.colab.kernel.invokeFunction(\n",
              "            'suggestCharts', [key], {});\n",
              "      } catch (error) {\n",
              "        console.error('Error during call to suggestCharts:', error);\n",
              "      }\n",
              "      quickchartButtonEl.classList.remove('colab-df-spinner');\n",
              "      quickchartButtonEl.classList.add('colab-df-quickchart-complete');\n",
              "    }\n",
              "    (() => {\n",
              "      let quickchartButtonEl =\n",
              "        document.querySelector('#df-167fc428-ca35-4fde-abcd-d7931c86d97e button');\n",
              "      quickchartButtonEl.style.display =\n",
              "        google.colab.kernel.accessAllowed ? 'block' : 'none';\n",
              "    })();\n",
              "  </script>\n",
              "</div>\n",
              "\n",
              "    </div>\n",
              "  </div>\n"
            ],
            "application/vnd.google.colaboratory.intrinsic+json": {
              "type": "dataframe",
              "variable_name": "data",
              "summary": "{\n  \"name\": \"data\",\n  \"rows\": 10227,\n  \"fields\": [\n    {\n      \"column\": \"market\",\n      \"properties\": {\n        \"dtype\": \"category\",\n        \"num_unique_values\": 120,\n        \"samples\": [\n          \"HALDWANI(UTT)\",\n          \"HUBLI(KNT)\",\n          \"AJMER(RAJ)\"\n        ],\n        \"semantic_type\": \"\",\n        \"description\": \"\"\n      }\n    },\n    {\n      \"column\": \"month\",\n      \"properties\": {\n        \"dtype\": \"category\",\n        \"num_unique_values\": 12,\n        \"samples\": [\n          \"November\",\n          \"October\",\n          \"January\"\n        ],\n        \"semantic_type\": \"\",\n        \"description\": \"\"\n      }\n    },\n    {\n      \"column\": \"year\",\n      \"properties\": {\n        \"dtype\": \"number\",\n        \"std\": 4,\n        \"min\": 1996,\n        \"max\": 2016,\n        \"num_unique_values\": 21,\n        \"samples\": [\n          2005,\n          2000,\n          2001\n        ],\n        \"semantic_type\": \"\",\n        \"description\": \"\"\n      }\n    },\n    {\n      \"column\": \"quantity\",\n      \"properties\": {\n        \"dtype\": \"number\",\n        \"std\": 124408,\n        \"min\": 20,\n        \"max\": 1639032,\n        \"num_unique_values\": 8641,\n        \"samples\": [\n          35400,\n          653,\n          66012\n        ],\n        \"semantic_type\": \"\",\n        \"description\": \"\"\n      }\n    },\n    {\n      \"column\": \"priceMin\",\n      \"properties\": {\n        \"dtype\": \"number\",\n        \"std\": 673,\n        \"min\": 16,\n        \"max\": 6000,\n        \"num_unique_values\": 2026,\n        \"samples\": [\n          1167,\n          776,\n          3426\n        ],\n        \"semantic_type\": \"\",\n        \"description\": \"\"\n      }\n    },\n    {\n      \"column\": \"priceMax\",\n      \"properties\": {\n        \"dtype\": \"number\",\n        \"std\": 979,\n        \"min\": 145,\n        \"max\": 8192,\n        \"num_unique_values\": 2732,\n        \"samples\": [\n          275,\n          384,\n          3494\n        ],\n        \"semantic_type\": \"\",\n        \"description\": \"\"\n      }\n    },\n    {\n      \"column\": \"priceMod\",\n      \"properties\": {\n        \"dtype\": \"number\",\n        \"std\": 818,\n        \"min\": 80,\n        \"max\": 6400,\n        \"num_unique_values\": 2424,\n        \"samples\": [\n          2221,\n          292,\n          2213\n        ],\n        \"semantic_type\": \"\",\n        \"description\": \"\"\n      }\n    },\n    {\n      \"column\": \"state\",\n      \"properties\": {\n        \"dtype\": \"category\",\n        \"num_unique_values\": 21,\n        \"samples\": [\n          \"PB\",\n          \"KER\",\n          \"JK\"\n        ],\n        \"semantic_type\": \"\",\n        \"description\": \"\"\n      }\n    },\n    {\n      \"column\": \"city\",\n      \"properties\": {\n        \"dtype\": \"category\",\n        \"num_unique_values\": 117,\n        \"samples\": [\n          \"HOSHIARPUR\",\n          \"AJMER\",\n          \"JODHPUR\"\n        ],\n        \"semantic_type\": \"\",\n        \"description\": \"\"\n      }\n    },\n    {\n      \"column\": \"date\",\n      \"properties\": {\n        \"dtype\": \"object\",\n        \"num_unique_values\": 242,\n        \"samples\": [\n          \"April-2006\",\n          \"January-2014\",\n          \"July-2004\"\n        ],\n        \"semantic_type\": \"\",\n        \"description\": \"\"\n      }\n    }\n  ]\n}"
            }
          },
          "metadata": {},
          "execution_count": 37
        }
      ],
      "source": [
        "import numpy as np\n",
        "import pandas as pd\n",
        "from sklearn.preprocessing import MinMaxScaler\n",
        "from keras.models import Sequential\n",
        "from keras.layers import Dense, Dropout, LSTM\n",
        "\n",
        "\n",
        "data = pd.read_csv(r'/content/drive/MyDrive/Market Price Prediction/MarketPricePrediction.csv')\n",
        "#creating dataframe\n",
        "df=data.sort_index(ascending=True, axis=0)\n",
        "new_df=pd.DataFrame(index=range(0,len(data)),columns=['date', 'priceMax'])\n",
        "for i in range(0, len(df)):\n",
        "  new_df['date'][i]=df['date'][i]\n",
        "  new_df['priceMax'][i]=df['priceMax'][i]\n",
        "data.head()"
      ]
    },
    {
      "cell_type": "markdown",
      "source": [
        "### **Label Encoding**"
      ],
      "metadata": {
        "id": "as4iAVvQK3nv"
      }
    },
    {
      "cell_type": "code",
      "source": [
        "from sklearn.preprocessing import LabelEncoder\n",
        "\n",
        "label_encoder=LabelEncoder()\n",
        "\n",
        "data['City_Encoded']=label_encoder.fit_transform(data['city'].astype(str))"
      ],
      "metadata": {
        "id": "NnrnqVX-K9Fs"
      },
      "execution_count": 16,
      "outputs": []
    },
    {
      "cell_type": "markdown",
      "source": [
        "### **Handling Missing Values**"
      ],
      "metadata": {
        "id": "dd2hpX4xIo4S"
      }
    },
    {
      "cell_type": "markdown",
      "source": [
        "*  Identify missing values in the dataset.\n",
        "\n",
        "*  Decide whether to impute missing values or remove rows/columns with missing values based on the amount of missing data and its impact on the analysis.\n"
      ],
      "metadata": {
        "id": "qATB4bCLI9SR"
      }
    },
    {
      "cell_type": "code",
      "source": [
        "import matplotlib.pyplot as plt\n",
        "\n",
        "# Assuming you already have the 'data' DataFrame with the 'city_encoded' column\n",
        "new_df.index=new_df.date\n",
        "new_df.drop('date', axis=1, inplace=True)\n",
        "\n",
        "\n",
        "data['date'] = pd.to_datetime(data['date'], format='%B-%Y')\n",
        "data.index = data['date']\n",
        "\n",
        "\n"
      ],
      "metadata": {
        "id": "6FZylmG3I3gv"
      },
      "execution_count": 38,
      "outputs": []
    },
    {
      "cell_type": "markdown",
      "source": [
        "### **Feature Scaling**"
      ],
      "metadata": {
        "id": "PlY0IeVuP7Em"
      }
    },
    {
      "cell_type": "code",
      "source": [
        "from sklearn.preprocessing import MinMaxScaler\n",
        "scaler= MinMaxScaler(data['City_Encoded'])\n"
      ],
      "metadata": {
        "id": "d4-yOZjoQLUd"
      },
      "execution_count": 34,
      "outputs": []
    },
    {
      "cell_type": "markdown",
      "source": [
        "## **Model Building**"
      ],
      "metadata": {
        "id": "8wR-yoDNjvDT"
      }
    },
    {
      "cell_type": "code",
      "source": [
        "#creating train and test sets\n",
        "dataset = new_df.values"
      ],
      "metadata": {
        "id": "7GqnobqOj5s6"
      },
      "execution_count": null,
      "outputs": []
    }
  ]
}